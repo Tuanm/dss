{
 "cells": [
  {
   "cell_type": "code",
   "execution_count": 1,
   "metadata": {},
   "outputs": [],
   "source": [
    "import pandas as pd"
   ]
  },
  {
   "cell_type": "code",
   "execution_count": 2,
   "metadata": {},
   "outputs": [
    {
     "name": "stdout",
     "output_type": "stream",
     "text": [
      "3.6.9 (default, Mar 15 2022, 13:55:28) \n",
      "[GCC 8.4.0]\n"
     ]
    }
   ],
   "source": [
    "import sys\n",
    "\n",
    "print(sys.version) # Python version"
   ]
  },
  {
   "cell_type": "markdown",
   "metadata": {},
   "source": [
    "Notice that, `pandas<=2.1` does not support read XLSX file, so we need to pass the `openpyxl` engine here."
   ]
  },
  {
   "cell_type": "code",
   "execution_count": 11,
   "metadata": {},
   "outputs": [],
   "source": [
    "data = pd.read_excel('data/computer_repair_times.xlsx', engine='openpyxl')"
   ]
  },
  {
   "cell_type": "code",
   "execution_count": 12,
   "metadata": {},
   "outputs": [
    {
     "name": "stdout",
     "output_type": "stream",
     "text": [
      "     Sample  Repair Time (Days)\n",
      "0       1.0                18.0\n",
      "1       2.0                15.0\n",
      "2       3.0                17.0\n",
      "3       4.0                 9.0\n",
      "4       5.0                37.0\n",
      "..      ...                 ...\n",
      "247   248.0                 6.0\n",
      "248   249.0                17.0\n",
      "249   250.0                13.0\n",
      "250     NaN                 NaN\n",
      "251     NaN                 NaN\n",
      "\n",
      "[252 rows x 2 columns]\n"
     ]
    }
   ],
   "source": [
    "print(data)"
   ]
  },
  {
   "cell_type": "code",
   "execution_count": 25,
   "metadata": {},
   "outputs": [],
   "source": [
    "import random\n",
    "import math\n",
    "\n",
    "def random_in_range(left: float, right: float):\n",
    "    ''' Returns a random floating number between two floating numbers given. '''\n",
    "    return left + random.random() * (right - left)\n",
    "\n",
    "def sqrt(num: float):\n",
    "    ''' Returns the square root of a number. '''\n",
    "    return math.sqrt(num)"
   ]
  },
  {
   "cell_type": "code",
   "execution_count": 57,
   "metadata": {},
   "outputs": [
    {
     "data": {
      "text/plain": [
       "0.49283317478452426"
      ]
     },
     "execution_count": 57,
     "metadata": {},
     "output_type": "execute_result"
    }
   ],
   "source": [
    "random_in_range(-1, 1)"
   ]
  },
  {
   "cell_type": "markdown",
   "metadata": {},
   "source": [
    "The days for computer repair is suggested based on the average repair days we have.\n",
    "\n",
    "$$x=\\mathrm{E}X+\\alpha\\times\\sigma,$$\n",
    "\n",
    "where $x$ is the suggested days, $\\alpha$ is a random floating number in range $[-1,1]$, and $\\sigma$ is the standard deviation of the data $X$, which is the repair days we have."
   ]
  },
  {
   "cell_type": "code",
   "execution_count": 76,
   "metadata": {},
   "outputs": [],
   "source": [
    "def suggest_repair_time(repair_times: pd.DataFrame) -> float:\n",
    "    ''' Suggests suitable days to repair new comming computer. '''\n",
    "    mean = repair_times.mean()\n",
    "    variance = repair_times.var()\n",
    "    standard_deviation = sqrt(variance)\n",
    "    return mean + random_in_range(-1, 1) * standard_deviation"
   ]
  },
  {
   "cell_type": "code",
   "execution_count": 83,
   "metadata": {},
   "outputs": [
    {
     "name": "stdout",
     "output_type": "stream",
     "text": [
      "Suggested days: 19.23526634998762\n"
     ]
    }
   ],
   "source": [
    "suggested_days = suggest_repair_time(data.iloc[0:250]['Repair Time (Days)'])\n",
    "print('Suggested days:', suggested_days)"
   ]
  }
 ],
 "metadata": {
  "interpreter": {
   "hash": "929f54238dc94f6bb8aaa1cd09ce94ac6324615577d42c295d5baf3e2b9477ff"
  },
  "kernelspec": {
   "display_name": "Python 3.6.9 ('.venv': venv)",
   "language": "python",
   "name": "python3"
  },
  "language_info": {
   "codemirror_mode": {
    "name": "ipython",
    "version": 3
   },
   "file_extension": ".py",
   "mimetype": "text/x-python",
   "name": "python",
   "nbconvert_exporter": "python",
   "pygments_lexer": "ipython3",
   "version": "3.6.9"
  },
  "orig_nbformat": 4
 },
 "nbformat": 4,
 "nbformat_minor": 2
}
